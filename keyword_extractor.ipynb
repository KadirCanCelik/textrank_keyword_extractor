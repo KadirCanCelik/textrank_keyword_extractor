{
 "cells": [
  {
   "cell_type": "markdown",
   "metadata": {
    "id": "HVUyrQNyij07"
   },
   "source": [
    "# Import Required Libraries"
   ]
  },
  {
   "cell_type": "code",
   "execution_count": null,
   "metadata": {
    "colab": {
     "base_uri": "https://localhost:8080/"
    },
    "id": "wEqJSCgOVqml",
    "outputId": "c0b24a15-76ae-4384-88ca-79b64cd21e33"
   },
   "outputs": [],
   "source": [
    "import nltk\n",
    "import networkx as nx\n",
    "from nltk.tokenize import word_tokenize, sent_tokenize\n",
    "from nltk.corpus import stopwords\n",
    "from itertools import combinations\n",
    "from collections import defaultdict\n",
    "import string\n",
    "\n",
    "from nltk.stem import WordNetLemmatizer\n",
    "from nltk.corpus import wordnet\n",
    "\n",
    "nltk.download(\"punkt\")\n",
    "nltk.download(\"averaged_perceptron_tagger_eng\")\n",
    "nltk.download(\"stopwords\")\n",
    "nltk.download(\"wordnet\")\n",
    "nltk.download(\"omw-1.4\")\n",
    "\n",
    "lemmatizer = WordNetLemmatizer()\n",
    "\n",
    "stop_words = set(stopwords.words('english'))\n",
    "punctuations = set(string.punctuation)"
   ]
  },
  {
   "cell_type": "markdown",
   "metadata": {
    "id": "HOvy99tMjFob"
   },
   "source": [
    "# TextRank-Based Keyword Extraction Functions"
   ]
  },
  {
   "cell_type": "code",
   "execution_count": null,
   "metadata": {
    "id": "vPll0oC_gH-q"
   },
   "outputs": [],
   "source": [
    "# Convert POS Tags to WordNet Format\n",
    "def get_wordnet_pos(tag):\n",
    "    if tag.startswith(\"J\"):\n",
    "        return wordnet.ADJ\n",
    "    elif tag.startswith(\"V\"):\n",
    "        return wordnet.VERB\n",
    "    elif tag.startswith(\"N\"):\n",
    "        return wordnet.NOUN\n",
    "    elif tag.startswith(\"R\"):\n",
    "        return wordnet.ADV\n",
    "    else:\n",
    "        return wordnet.NOUN"
   ]
  },
  {
   "cell_type": "code",
   "execution_count": null,
   "metadata": {
    "id": "FI8mPamJZ56_"
   },
   "outputs": [],
   "source": [
    "# Extracts candidate keywords from the input text\n",
    "def extract_candidates(text):\n",
    "    words = []\n",
    "    for sent in sent_tokenize(text):\n",
    "        tokens = word_tokenize(sent)\n",
    "        tagged = nltk.pos_tag(tokens)\n",
    "        for word, tag in tagged:\n",
    "            word_lower = word.lower()\n",
    "            if word_lower not in stop_words and word_lower not in punctuations:\n",
    "                if tag.startswith(\"NN\") or tag.startswith(\"JJ\"):\n",
    "                    lemma = lemmatizer.lemmatize(word_lower, get_wordnet_pos(tag))\n",
    "                    words.append(lemma)\n",
    "    return words"
   ]
  },
  {
   "cell_type": "code",
   "execution_count": null,
   "metadata": {
    "id": "XVb3Cft9Z5z4"
   },
   "outputs": [],
   "source": [
    "# Builds a co-occurrence graph from a list of words\n",
    "def build_graph(words, window_size=4):\n",
    "    graph = nx.Graph()\n",
    "    for i in range(len(words)):\n",
    "        for j in range(i+1, i+window_size):\n",
    "            if j < len(words) and words[i] != words[j]:\n",
    "                graph.add_edge(words[i], words[j])\n",
    "    return graph"
   ]
  },
  {
   "cell_type": "code",
   "execution_count": null,
   "metadata": {
    "id": "g2i3Nce4Z5j3"
   },
   "outputs": [],
   "source": [
    "# Extracts top keywords from the input text using the TextRank algorithm\n",
    "def textrank_keywords(text, top_n=10):\n",
    "    words = extract_candidates(text)\n",
    "    graph = build_graph(words)\n",
    "    scores = nx.pagerank(graph)\n",
    "    sorted_keywords = sorted(scores.items(), key=lambda x: x[1], reverse=True)\n",
    "    return sorted_keywords[:top_n]"
   ]
  },
  {
   "cell_type": "code",
   "execution_count": null,
   "metadata": {
    "id": "qlA7NITxZY6T"
   },
   "outputs": [],
   "source": [
    "text = \"\"\"\n",
    "Artificial Intelligence (AI) is rapidly transforming industries across the globe. From healthcare and education to finance and transportation, AI is improving efficiency, accuracy, and decision-making capabilities. In healthcare, AI-powered systems assist doctors in diagnosing diseases such as cancer more quickly and accurately. Machine learning algorithms analyze vast amounts of patient data to identify patterns that humans may miss.\n",
    "\n",
    "In the financial sector, AI helps detect fraudulent transactions and automates investment strategies. Robo-advisors are increasingly being used by individuals to manage their portfolios. In education, AI-powered learning platforms adapt to individual students' needs, offering personalized content and real-time feedback.\n",
    "\n",
    "Self-driving cars are one of the most visible applications of AI in transportation. These vehicles use computer vision, sensors, and neural networks to navigate safely through traffic. Moreover, natural language processing enables AI systems to understand and respond to human language, making virtual assistants like Siri and Alexa more effective.\n",
    "\n",
    "Despite its benefits, AI also raises ethical concerns, such as data privacy, job displacement, and algorithmic bias. As AI becomes more integrated into daily life, it is crucial to establish clear regulations and ethical guidelines to ensure its responsible use.\n",
    "\n",
    "Overall, AI represents both an opportunity and a challenge for modern society. Its continued development will shape the future in ways we are only beginning to understand.\n",
    "\"\"\"\n"
   ]
  },
  {
   "cell_type": "markdown",
   "metadata": {
    "id": "fAe1FP_GkVxD"
   },
   "source": [
    "# 📊 Keyword Visualization"
   ]
  },
  {
   "cell_type": "code",
   "execution_count": null,
   "metadata": {
    "id": "kxeABTFXeKHI"
   },
   "outputs": [],
   "source": [
    "import matplotlib.pyplot as plt\n",
    "\n",
    "def visualize_keywords(keywords):\n",
    "    words = [word for word, score in keywords]\n",
    "    scores = [score for word, score in keywords]\n",
    "\n",
    "    plt.figure(figsize=(10, 6))\n",
    "    bars = plt.bar(words, scores, color='skyblue')\n",
    "    plt.xlabel('Keywords')\n",
    "    plt.ylabel('PageRank Score')\n",
    "    plt.title('Top Keywords Extracted via TextRank')\n",
    "    plt.xticks(rotation=45)\n",
    "    plt.tight_layout()\n",
    "\n",
    "    for bar, score in zip(bars, scores):\n",
    "        plt.text(bar.get_x() + bar.get_width()/2, bar.get_height(), f\"{score:.3f}\",\n",
    "                 ha='center', va='bottom', fontsize=9)\n",
    "\n",
    "    plt.show()\n"
   ]
  },
  {
   "cell_type": "code",
   "execution_count": null,
   "metadata": {
    "colab": {
     "base_uri": "https://localhost:8080/",
     "height": 515
    },
    "id": "W3Fv1SeXZ_OI",
    "outputId": "c96fa80f-4ed3-4d1a-9394-4c3f19533c92"
   },
   "outputs": [],
   "source": [
    "keywords = textrank_keywords(text)\n",
    "visualize_keywords(keywords)"
   ]
  },
  {
   "cell_type": "code",
   "execution_count": null,
   "metadata": {
    "id": "mrRHTUS9aFD-"
   },
   "outputs": [],
   "source": []
  }
 ],
 "metadata": {
  "colab": {
   "provenance": []
  },
  "kernelspec": {
   "display_name": "Python 3 (ipykernel)",
   "language": "python",
   "name": "python3"
  },
  "language_info": {
   "codemirror_mode": {
    "name": "ipython",
    "version": 3
   },
   "file_extension": ".py",
   "mimetype": "text/x-python",
   "name": "python",
   "nbconvert_exporter": "python",
   "pygments_lexer": "ipython3",
   "version": "3.9.13"
  }
 },
 "nbformat": 4,
 "nbformat_minor": 1
}
